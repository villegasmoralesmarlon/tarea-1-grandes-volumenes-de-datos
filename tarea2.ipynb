{
 "cells": [
  {
   "cell_type": "code",
   "execution_count": 2,
   "id": "fe2637f2",
   "metadata": {},
   "outputs": [
    {
     "name": "stdout",
     "output_type": "stream",
     "text": [
      "tipo_transaccion\n",
      "compra           3352\n",
      "retiro           3278\n",
      "transferencia    3370\n",
      "dtype: int64\n"
     ]
    }
   ],
   "source": [
    "import pandas as pd\n",
    "\n",
    "# Cargar el archivo\n",
    "df = pd.read_csv(\"transacciones_simuladas 2.csv\")\n",
    "\n",
    "#  Agrupar por tipo de transacción\n",
    "grupo = df.groupby(\"tipo_transaccion\")\n",
    "\n",
    " #Ver cuántas transacciones hay en cada grupo\n",
    "print(grupo.size())\n"
   ]
  },
  {
   "cell_type": "code",
   "execution_count": 7,
   "id": "b2f9ca11",
   "metadata": {},
   "outputs": [
    {
     "name": "stdout",
     "output_type": "stream",
     "text": [
      "=== NOMBRES DE COLUMNAS ===\n",
      "['id_transaccion', 'id_cliente', 'nombre_cliente', 'cuenta_origen', 'fecha', 'monto', 'divisa', 'tipo_transaccion', 'ciudad', 'cuenta_destino', 'categoria_comercio']\n"
     ]
    }
   ],
   "source": [
    "# Ver nombres de columnas\n",
    "print(\"=== NOMBRES DE COLUMNAS ===\")\n",
    "print(df.columns.tolist())"
   ]
  },
  {
   "cell_type": "code",
   "execution_count": 12,
   "id": "c74b7565",
   "metadata": {},
   "outputs": [
    {
     "name": "stdout",
     "output_type": "stream",
     "text": [
      "CIUDADES\n",
      "['Queretaro' 'Juarez' 'Paris' 'Puebla' 'Monterrey' 'Merida' 'Leon'\n",
      " 'Torreon' 'Tijuana' 'Madrid' 'CDMX' 'Guadalajara' 'Brasil' 'Barcelona'\n",
      " 'Los Angeles' 'Sidney' 'London' 'Bogota' 'Boston' 'New York'\n",
      " 'Buenos Aires' 'Montreal' 'Israel' 'Cali' 'India' 'China' 'Nigeria'\n",
      " 'Ucrania' 'New york' 'Peru' 'Libia' 'Texas' 'Milan' 'Moscu']\n",
      "\n",
      "Total de ciudades diferentes: 34\n"
     ]
    }
   ],
   "source": [
    "# Ver ciudades \n",
    "print(\"CIUDADES\")\n",
    "ciudades_unicas = df['ciudad'].unique()\n",
    "print(ciudades_unicas)\n",
    "print(f\"\\nTotal de ciudades diferentes: {df['ciudad'].nunique()}\")"
   ]
  },
  {
   "cell_type": "code",
   "execution_count": 5,
   "id": "84f2471e",
   "metadata": {},
   "outputs": [
    {
     "name": "stdout",
     "output_type": "stream",
     "text": [
      "      id_transaccion  id_cliente     nombre_cliente           cuenta_origen  \\\n",
      "3444            3445        4508        Laura Price  ES25203010770036579757   \n",
      "5374            5375        8796     Frances Joseph  ES82043997879436965728   \n",
      "3330            3331        7016       Susan Barnes  ES97485046117969424317   \n",
      "6515            6516        7295  Samantha Caldwell  ES25328975908033588586   \n",
      "8904            8905        7606   Michael Melendez  ES56719779144675253265   \n",
      "3697            3698        3420    Danielle Phelps  ES35334835497588864601   \n",
      "6346            6347        6517   Alexandria Jones  ES86760804123561858475   \n",
      "5681            5682        6958        Dennis King  ES73079118584643862049   \n",
      "3222            3223        1055    Jordan Garrison  ES49413931305950700968   \n",
      "7515            7516        2945        Scott Curry  ES86891239974766236110   \n",
      "\n",
      "           fecha     monto divisa tipo_transaccion       ciudad  \\\n",
      "3444  23/09/2025  49995.63    MXN           compra  Guadalajara   \n",
      "5374  27/04/2025  49992.38    EUR    transferencia         Leon   \n",
      "3330  03/09/2025  49988.09    USD           compra  Guadalajara   \n",
      "6515  13/07/2025  49986.96    USD           retiro    Queretaro   \n",
      "8904  03/09/2025  49981.24    USD           compra       Merida   \n",
      "3697  21/09/2025  49981.06    MXN           retiro         CDMX   \n",
      "6346  07/08/2025  49973.11    EUR           retiro         Leon   \n",
      "5681  23/05/2025  49965.07    MXN           retiro  Guadalajara   \n",
      "3222  31/07/2025  49964.03    USD    transferencia         CDMX   \n",
      "7515  10/08/2025  49955.90    USD    transferencia      Tijuana   \n",
      "\n",
      "              cuenta_destino categoria_comercio  \n",
      "3444                     NaN               ropa  \n",
      "5374  ES22967848312916265659                NaN  \n",
      "3330                     NaN               ropa  \n",
      "6515                     NaN                NaN  \n",
      "8904                     NaN       supermercado  \n",
      "3697                     NaN                NaN  \n",
      "6346                     NaN                NaN  \n",
      "5681                     NaN                NaN  \n",
      "3222  ES36330481967789690273                NaN  \n",
      "7515  ES95491352441952045094                NaN  \n"
     ]
    }
   ],
   "source": [
    "# Ordenar los datos por monto en orden descendente\n",
    "df_ordenado = df.sort_values(by=\"monto\", ascending=False)\n",
    "\n",
    "# Mostrar las primeras filas para verificar\n",
    "print(df_ordenado.head(10))\n"
   ]
  },
  {
   "cell_type": "code",
   "execution_count": 6,
   "id": "af54cd09",
   "metadata": {},
   "outputs": [
    {
     "data": {
      "text/html": [
       "<div>\n",
       "<style scoped>\n",
       "    .dataframe tbody tr th:only-of-type {\n",
       "        vertical-align: middle;\n",
       "    }\n",
       "\n",
       "    .dataframe tbody tr th {\n",
       "        vertical-align: top;\n",
       "    }\n",
       "\n",
       "    .dataframe thead th {\n",
       "        text-align: right;\n",
       "    }\n",
       "</style>\n",
       "<table border=\"1\" class=\"dataframe\">\n",
       "  <thead>\n",
       "    <tr style=\"text-align: right;\">\n",
       "      <th></th>\n",
       "      <th>id_transaccion</th>\n",
       "      <th>id_cliente</th>\n",
       "      <th>nombre_cliente</th>\n",
       "      <th>cuenta_origen</th>\n",
       "      <th>fecha</th>\n",
       "      <th>monto</th>\n",
       "      <th>divisa</th>\n",
       "      <th>tipo_transaccion</th>\n",
       "      <th>ciudad</th>\n",
       "      <th>cuenta_destino</th>\n",
       "      <th>categoria_comercio</th>\n",
       "    </tr>\n",
       "  </thead>\n",
       "  <tbody>\n",
       "    <tr>\n",
       "      <th>2</th>\n",
       "      <td>3</td>\n",
       "      <td>6403</td>\n",
       "      <td>Amanda Lewis</td>\n",
       "      <td>ES94278160534459740595</td>\n",
       "      <td>04/07/2025</td>\n",
       "      <td>30644.10</td>\n",
       "      <td>MXN</td>\n",
       "      <td>retiro</td>\n",
       "      <td>Paris</td>\n",
       "      <td>NaN</td>\n",
       "      <td>NaN</td>\n",
       "    </tr>\n",
       "    <tr>\n",
       "      <th>21</th>\n",
       "      <td>22</td>\n",
       "      <td>6200</td>\n",
       "      <td>Sara Hayes</td>\n",
       "      <td>ES87715058744226080998</td>\n",
       "      <td>25/07/2025</td>\n",
       "      <td>4282.67</td>\n",
       "      <td>USD</td>\n",
       "      <td>retiro</td>\n",
       "      <td>Madrid</td>\n",
       "      <td>NaN</td>\n",
       "      <td>NaN</td>\n",
       "    </tr>\n",
       "    <tr>\n",
       "      <th>81</th>\n",
       "      <td>82</td>\n",
       "      <td>4041</td>\n",
       "      <td>Jesse Haley</td>\n",
       "      <td>ES24466833169075235511</td>\n",
       "      <td>03/08/2025</td>\n",
       "      <td>38341.71</td>\n",
       "      <td>MXN</td>\n",
       "      <td>compra</td>\n",
       "      <td>Brasil</td>\n",
       "      <td>NaN</td>\n",
       "      <td>tecnologia</td>\n",
       "    </tr>\n",
       "    <tr>\n",
       "      <th>151</th>\n",
       "      <td>152</td>\n",
       "      <td>1556</td>\n",
       "      <td>Nicole Blair</td>\n",
       "      <td>ES83690781662920254161</td>\n",
       "      <td>22/04/2025</td>\n",
       "      <td>13329.34</td>\n",
       "      <td>EUR</td>\n",
       "      <td>compra</td>\n",
       "      <td>Barcelona</td>\n",
       "      <td>NaN</td>\n",
       "      <td>supermercado</td>\n",
       "    </tr>\n",
       "    <tr>\n",
       "      <th>181</th>\n",
       "      <td>182</td>\n",
       "      <td>8594</td>\n",
       "      <td>Katelyn Tran</td>\n",
       "      <td>ES60362173861452778103</td>\n",
       "      <td>31/07/2025</td>\n",
       "      <td>9605.27</td>\n",
       "      <td>USD</td>\n",
       "      <td>retiro</td>\n",
       "      <td>Los Angeles</td>\n",
       "      <td>NaN</td>\n",
       "      <td>NaN</td>\n",
       "    </tr>\n",
       "    <tr>\n",
       "      <th>221</th>\n",
       "      <td>222</td>\n",
       "      <td>6970</td>\n",
       "      <td>Jose Johnston</td>\n",
       "      <td>ES22804134254660089308</td>\n",
       "      <td>31/03/2025</td>\n",
       "      <td>3196.42</td>\n",
       "      <td>EUR</td>\n",
       "      <td>compra</td>\n",
       "      <td>Sidney</td>\n",
       "      <td>NaN</td>\n",
       "      <td>tecnologia</td>\n",
       "    </tr>\n",
       "    <tr>\n",
       "      <th>268</th>\n",
       "      <td>269</td>\n",
       "      <td>3131</td>\n",
       "      <td>Carrie Pena</td>\n",
       "      <td>ES90084414001615422937</td>\n",
       "      <td>24/05/2025</td>\n",
       "      <td>13032.16</td>\n",
       "      <td>MXN</td>\n",
       "      <td>transferencia</td>\n",
       "      <td>London</td>\n",
       "      <td>ES64550640167281989000</td>\n",
       "      <td>NaN</td>\n",
       "    </tr>\n",
       "    <tr>\n",
       "      <th>335</th>\n",
       "      <td>336</td>\n",
       "      <td>3738</td>\n",
       "      <td>Aaron Harvey</td>\n",
       "      <td>ES96820587356490596692</td>\n",
       "      <td>06/08/2025</td>\n",
       "      <td>36990.43</td>\n",
       "      <td>MXN</td>\n",
       "      <td>transferencia</td>\n",
       "      <td>Bogota</td>\n",
       "      <td>ES91517096893090446353</td>\n",
       "      <td>NaN</td>\n",
       "    </tr>\n",
       "    <tr>\n",
       "      <th>442</th>\n",
       "      <td>443</td>\n",
       "      <td>9954</td>\n",
       "      <td>Michael Hernandez</td>\n",
       "      <td>ES27156253917943792518</td>\n",
       "      <td>09/09/2025</td>\n",
       "      <td>44483.26</td>\n",
       "      <td>USD</td>\n",
       "      <td>compra</td>\n",
       "      <td>Boston</td>\n",
       "      <td>NaN</td>\n",
       "      <td>servicios</td>\n",
       "    </tr>\n",
       "    <tr>\n",
       "      <th>498</th>\n",
       "      <td>499</td>\n",
       "      <td>3223</td>\n",
       "      <td>William Horne</td>\n",
       "      <td>ES75827781751930120425</td>\n",
       "      <td>01/06/2025</td>\n",
       "      <td>22475.55</td>\n",
       "      <td>MXN</td>\n",
       "      <td>retiro</td>\n",
       "      <td>Paris</td>\n",
       "      <td>NaN</td>\n",
       "      <td>NaN</td>\n",
       "    </tr>\n",
       "  </tbody>\n",
       "</table>\n",
       "</div>"
      ],
      "text/plain": [
       "     id_transaccion  id_cliente     nombre_cliente           cuenta_origen  \\\n",
       "2                 3        6403       Amanda Lewis  ES94278160534459740595   \n",
       "21               22        6200         Sara Hayes  ES87715058744226080998   \n",
       "81               82        4041        Jesse Haley  ES24466833169075235511   \n",
       "151             152        1556       Nicole Blair  ES83690781662920254161   \n",
       "181             182        8594       Katelyn Tran  ES60362173861452778103   \n",
       "221             222        6970      Jose Johnston  ES22804134254660089308   \n",
       "268             269        3131        Carrie Pena  ES90084414001615422937   \n",
       "335             336        3738       Aaron Harvey  ES96820587356490596692   \n",
       "442             443        9954  Michael Hernandez  ES27156253917943792518   \n",
       "498             499        3223      William Horne  ES75827781751930120425   \n",
       "\n",
       "          fecha     monto divisa tipo_transaccion       ciudad  \\\n",
       "2    04/07/2025  30644.10    MXN           retiro        Paris   \n",
       "21   25/07/2025   4282.67    USD           retiro       Madrid   \n",
       "81   03/08/2025  38341.71    MXN           compra       Brasil   \n",
       "151  22/04/2025  13329.34    EUR           compra    Barcelona   \n",
       "181  31/07/2025   9605.27    USD           retiro  Los Angeles   \n",
       "221  31/03/2025   3196.42    EUR           compra       Sidney   \n",
       "268  24/05/2025  13032.16    MXN    transferencia       London   \n",
       "335  06/08/2025  36990.43    MXN    transferencia       Bogota   \n",
       "442  09/09/2025  44483.26    USD           compra       Boston   \n",
       "498  01/06/2025  22475.55    MXN           retiro        Paris   \n",
       "\n",
       "             cuenta_destino categoria_comercio  \n",
       "2                       NaN                NaN  \n",
       "21                      NaN                NaN  \n",
       "81                      NaN         tecnologia  \n",
       "151                     NaN       supermercado  \n",
       "181                     NaN                NaN  \n",
       "221                     NaN         tecnologia  \n",
       "268  ES64550640167281989000                NaN  \n",
       "335  ES91517096893090446353                NaN  \n",
       "442                     NaN          servicios  \n",
       "498                     NaN                NaN  "
      ]
     },
     "execution_count": 6,
     "metadata": {},
     "output_type": "execute_result"
    }
   ],
   "source": [
    "# Filtrar las transacciones extranjeras\n",
    "extranjeras = df[~df[\"ciudad\"].isin([\n",
    "    \"Mexico\",\"CDMX\",\"Guadalajara\",\"Monterrey\",\"Puebla\",\"Cancun\",\"Merida\",\"Tijuana\",\n",
    "    \"Queretaro\",\"Chihuahua\",\"Hermosillo\",\"Culiacan\",\"Toluca\",\"Leon\",\"Morelia\",\n",
    "    \"Villahermosa\",\"Tuxtla\",\"Veracruz\",\"Oaxaca\",\"Zacatecas\",\"Durango\",\"Saltillo\",\n",
    "    \"Aguascalientes\",\"Campeche\",\"Colima\",\"Cuernavaca\",\"Chetumal\",\"Tlaxcala\",\"Juarez\",\"Torreon\"\n",
    "])]\n",
    "\n",
    "# Mostrar las primeras 10 transacciones extranjeras\n",
    "extranjeras.head(10)\n"
   ]
  },
  {
   "cell_type": "code",
   "execution_count": null,
   "id": "e06d764e",
   "metadata": {},
   "outputs": [
    {
     "data": {
      "text/plain": [
       "False"
      ]
     },
     "execution_count": 13,
     "metadata": {},
     "output_type": "execute_result"
    }
   ],
   "source": [
    "# 4 Revisar si la ciudad \"sudafrica\" está en la lista de ciudades\n",
    "\"sudafrica\" in df[\"ciudad\"].unique()\n"
   ]
  },
  {
   "cell_type": "code",
   "execution_count": 15,
   "id": "ebbe74d0",
   "metadata": {},
   "outputs": [
    {
     "name": "stdout",
     "output_type": "stream",
     "text": [
      "La cantidad promedio que se retira es: 24861.53\n"
     ]
    }
   ],
   "source": [
    "#  Calcular el monto promedio de los retiros\n",
    "promedio_retiro = df[df[\"tipo_transaccion\"] == \"retiro\"][\"monto\"].mean()\n",
    "print(f\"La cantidad promedio que se retira es: {promedio_retiro:.2f}\")\n",
    "\n"
   ]
  },
  {
   "cell_type": "code",
   "execution_count": 18,
   "id": "97e64e14",
   "metadata": {},
   "outputs": [
    {
     "name": "stdout",
     "output_type": "stream",
     "text": [
      "La cantidad mayor que se retira es: 49986.96\n"
     ]
    }
   ],
   "source": [
    "#cual a sido el retiro mayor \n",
    "retiro_mayor =df[df[\"tipo_transaccion\"]==\"retiro\"][\"monto\"].max()\n",
    "print(f\"La cantidad mayor que se retira es: {retiro_mayor:.2f}\")"
   ]
  },
  {
   "cell_type": "code",
   "execution_count": 24,
   "id": "adfee9ac",
   "metadata": {},
   "outputs": [
    {
     "name": "stdout",
     "output_type": "stream",
     "text": [
      "Cantidad de depositos: 974\n"
     ]
    }
   ],
   "source": [
    "#7.cuantos depositos estan entre 20,000 y 35,000\n",
    "\n",
    "depositos = df[(df[\"tipo_transaccion\"] == \"transferencia\") & (df[\"monto\"] >= 20000) & (df[\"monto\"] <= 35000)]\n",
    "print(f\"Cantidad de depositos: {len(depositos)}\")"
   ]
  },
  {
   "cell_type": "code",
   "execution_count": null,
   "id": "e7e74c65",
   "metadata": {},
   "outputs": [
    {
     "name": "stdout",
     "output_type": "stream",
     "text": [
      "divisa\n",
      "EUR    3334\n",
      "MXN    3325\n",
      "USD    3341\n",
      "dtype: int64\n"
     ]
    }
   ],
   "source": [
    "#8.agrupa los datos por tipo de divisa\n",
    "tipos_divisa = df.groupby(\"divisa\")\n",
    "print(tipos_divisa.size())"
   ]
  },
  {
   "cell_type": "code",
   "execution_count": 26,
   "id": "c2416bb7",
   "metadata": {},
   "outputs": [
    {
     "name": "stdout",
     "output_type": "stream",
     "text": [
      "divisa\n",
      "USD    6675\n",
      "MXN    3325\n",
      "Name: count, dtype: int64\n"
     ]
    }
   ],
   "source": [
    "#9.cambia las divisas de euros a dolares\n",
    "df['divisa'] = df['divisa'].replace('EUR', 'USD')\n",
    "print(df['divisa'].value_counts())"
   ]
  }
 ],
 "metadata": {
  "kernelspec": {
   "display_name": "Python 3",
   "language": "python",
   "name": "python3"
  },
  "language_info": {
   "codemirror_mode": {
    "name": "ipython",
    "version": 3
   },
   "file_extension": ".py",
   "mimetype": "text/x-python",
   "name": "python",
   "nbconvert_exporter": "python",
   "pygments_lexer": "ipython3",
   "version": "3.12.3"
  }
 },
 "nbformat": 4,
 "nbformat_minor": 5
}
